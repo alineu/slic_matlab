{
 "cells": [
  {
   "cell_type": "markdown",
   "metadata": {},
   "source": [
    "## Discovery Cluster:"
   ]
  },
  {
   "cell_type": "markdown",
   "metadata": {},
   "source": [
    "create a copy of your param file, e.g.:\n",
    "\n",
    "```bash \n",
    "cd slic_matlb/slic_cdc\n",
    "cp param_solvent_cdc.m test_param_solvent_cdc_1.m```"
   ]
  },
  {
   "cell_type": "markdown",
   "metadata": {},
   "source": [
    "add a vector of initial guesses at the end of the for loop:\n",
    "\n",
    "```python\n",
    "addProblemCosmo(training_set{i}, pqrAll{i}, srfFile{i}, chargeDist{i}, ...\n",
    "                  referenceData{i}, soluteAtomAreas{i}, soluteAtomTypes{i}, ...\n",
    "                  soluteHbondData{i}, solute_VdWV{i}, solute_VdWA{i}, ...\n",
    "                  solventAtomAreas{i}, solventAtomTypes{i}, ...\n",
    "                  solventHbondData{i}, solvent_VdWV{i}, solvent_VdWA{i}, ...\n",
    "                  atom_vols{i}, temp{i});\n",
    "end\n",
    "\n",
    "% optimization\n",
    "\n",
    "x0_1 = [0.227 -31.964 0.315 0.501 0.047 ... %slic es\n",
    "        0.480 0.899 0.262 0.002 0.360 0.841 ... %disp\n",
    "        0.466 1.000 0.788 0.990 0.601 0.178 ... %disp cont.\n",
    "        0.562 0.008 0.853 0.840 0.429 0.408 ... %disp cont.\n",
    "        0.906 0.369 0.529 0.575 0.568 0.229 ... %hbond\n",
    "        0.397 0.407 0.780 0.446 0.671 0.614 ... %hbond \n",
    "        2 ... % combinatorial z\n",
    "        1]; % cavity   \n",
    "x0_2 = [0.461 -17.318 0.837 0.538 0.539 ... %slic es\n",
    "        0.669 0.422 0.453 0.056 0.978 0.469 ... %disp\n",
    "        0.517 0.539 0.310 0.721 0.486 0.430 ... %disp cont.\n",
    "        0.788 0.380 0.552 0.653 0.889 0.895 ... %disp cont.\n",
    "        0.626 0.454 0.000 0.481 0.870 0.277 ... %hbond\n",
    "        0.436 0.608 0.933 0.160 0.559 0.627 ... %hbond \n",
    "        3 ... % combinatorial z\n",
    "        1.2]; % cavity   \n",
    "x0_3 = [0.582 -48.195 0.489 0.514 0.523 ... %slic es\n",
    "        0.054 0.010 0.478 0.539 0.461 0.732 ... %disp\n",
    "        0.415 0.185 0.695 0.824 0.562 0.824 ... %disp cont.\n",
    "        0.081 0.566 0.399 0.989 0.197 0.674 ... %disp cont.\n",
    "        0.173 0.027 0.224 0.438 0.926 0.031 ... %hbond\n",
    "        0.820 0.715 0.254 0.161 0.585 0.204 ... %hbond \n",
    "        1.5 ... % combinatorial z\n",
    "        0.25]; % cavity   \n",
    "\n",
    "x0 = x0_1;\n",
    "\n",
    "...\n",
    "...\n",
    "\n",
    "\n",
    "% save the results\n",
    "save('OptSlicCdc_1.mat', 'x', 'training_set', 'mol_list', 'ref', ...\n",
    "     'calc', 'es', 'np', 'hb', 'disp', ...\n",
    "     'disp_slsl', 'disp_svsl', 'disp_svsv', 'comb', 'cav', ...\n",
    "     'disp_mob', 'cav_mob', 'np_mob', 'es_mob', 'np_SLIC', ...\n",
    "     'rmse', 'rmse_np', 'rmse_disp', 'rmse_cav', 'rmse_es', 'rmse_eshb', ...\n",
    "     'x0', 'calc0', 'es0', 'np0', 'hb0', 'disp0', 'disp_slsl0', ...\n",
    "     'disp_svsl0', 'disp_svsv0', 'comb0', 'cav0', 'epsOut');```\n"
   ]
  },
  {
   "cell_type": "markdown",
   "metadata": {},
   "source": [
    "create a file called `batch_matlab_discovery.sh`:\n",
    "    \n",
    "```bash\n",
    "#!/bin/bash\n",
    "file_name=$1\n",
    "echo \"#!/bin/bash\" > batch_\"$file_name\".script\n",
    "echo \"#SBATCH --job-name=\"$file_name\"\" >> batch_\"$file_name\".script\n",
    "echo \"#SBATCH --output=out_%j.txt\" >> batch_\"$file_name\".script\n",
    "echo \"#SBATCH --partition=long\" >> batch_\"$file_name\".script\n",
    "echo \"#SBATCH --exclude=c3079\" >> batch_\"$file_name\".script\n",
    "echo \"#SBATCH --nodes=1\" >> batch_\"$file_name\".script\n",
    "echo \"#SBATCH --time=1-00:00:00\" >> batch_\"$file_name\".script\n",
    "echo \"#SBATCH --exclusive\" >> batch_\"$file_name\".script\n",
    "echo \"#SBATCH --mem=0\" >> batch_\"$file_name\".script\n",
    "echo \"module load matlab/R2019a\" >> batch_\"$file_name\".script\n",
    "echo \"module load anaconda3/3.7\" >> batch_\"$file_name\".script\n",
    "echo \"module unload anaconda2/2018.12\" >> batch_\"$file_name\".script\n",
    "echo \"matlab -nosplash -nodesktop -r \\\"parpool('local',12);test_param_solvent_cdc_\"$file_name\";test_run_solvent_cdc_\"$file_name\";exit\\\"\" >> batch_\"$file_name\".script\n",
    "/usr/bin/sbatch batch_\"$file_name\".script```"
   ]
  },
  {
   "cell_type": "markdown",
   "metadata": {},
   "source": [
    "run"
   ]
  },
  {
   "cell_type": "markdown",
   "metadata": {},
   "source": [
    "```bash\n",
    "for i in {1..10}; \n",
    "do cp test_param_solvent_cdc_1.m test_param_solvent_cdc_\"$i\".m;\n",
    "cp test_run_solvent_cdc.m test_run_solvent_cdc_\"$i\".m;\n",
    "sed -i \"s/x0 = x0_1;/x0 = x0_\"$i\";/g\" test_param_solvent_cdc_\"$i\".m; \n",
    "sed -i -e \"s/'OptSlicCdc_1.mat'/'OptSlicCdc_\"$i\".mat'/g\" test_param_solvent_cdc_\"$i\".m; \n",
    "sed -i -e \"s/'OptSlicCdc_1.mat'/'OptSlicCdc_\"$i\".mat'/g\" test_run_solvent_cdc_\"$i\".m; \n",
    "sed -i -e \"s/'RunSlicCdc_1.mat'/'RunSlicCdc_\"$i\".mat'/g\" test_run_solvent_cdc_\"$i\".m; \n",
    "sed -i -e \"s/logfileName = 'param_logfile_1';/logfileName = 'param_logfile_\"$i\"';/g\" test_param_solvent_cdc_\"$i\".m; \n",
    "sed -i -e \"s/logfileName = 'run_logfile_1';/logfileName = 'run_logfile_\"$i\"';/g\" test_run_solvent_cdc_\"$i\".m;\n",
    "./batch_matlab_discovery.sh \"$i\";\n",
    "sleep 1m; done```"
   ]
  },
  {
   "cell_type": "code",
   "execution_count": null,
   "metadata": {},
   "outputs": [],
   "source": []
  }
 ],
 "metadata": {
  "kernelspec": {
   "display_name": "Python 3",
   "language": "python",
   "name": "python3"
  },
  "language_info": {
   "codemirror_mode": {
    "name": "ipython",
    "version": 3
   },
   "file_extension": ".py",
   "mimetype": "text/x-python",
   "name": "python",
   "nbconvert_exporter": "python",
   "pygments_lexer": "ipython3",
   "version": "3.6.10"
  }
 },
 "nbformat": 4,
 "nbformat_minor": 4
}
